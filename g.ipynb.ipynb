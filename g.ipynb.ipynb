{
 "cells": [
  {
   "cell_type": "code",
   "execution_count": null,
   "metadata": {},
   "outputs": [],
   "source": [
    "import csv\n",
    "import math as m\n",
    "f = open('a.csv', encoding = 'cp949')\n",
    "c = csv.reader(f)\n",
    "\n",
    "city = input(\"도시를 입력하세요(~도 ~시): \")\n",
    "alldata = []\n",
    "g = 978032.677\n",
    "\n",
    "        \n",
    #표준 
    "def standardG( o):\n",
    "    sin2 = (m.sin(m.radians(o)))**2\n",
    "    return g*(1+0.005278895*sin2+0.000023462*sin2**2)\n",
    "\n",
    "def freeAirCorrection(h):\n",
    "    return 0.308*h\n",
    "\n",
    "def freeAirAnomaly(g, h, o):\n",
    "    return (g - standardG(o)+freeAirCorrection(h))\n",
    "\n",
    "def bouguerCorrection(p, h):\n",
    "    return 0.0419 * p * h\n",
    "\n",
    "def bouguerAnomaly(g, h, o, p):\n",
    "    return freeAirAnomaly(g, h, o) - bouguerCorrection(p, h)\n",
    "\n",
    "def terrainCorrection(g, h, o, p, gBC):\n",
    "    return gBC - bouguerAnomaly(g,h,o,p)\n",
    "\n",
    "\n",
    "for row in c:\n",
    "    if city in row[0]:\n",
    "        alldata = row\n",
    "        wido = float(row[1])\n",
    "        kyongdo = float(row[2])\n",
    "        godo = float(row[3])\n",
    "        g_obs = float(row[4])\n",
    "        gb = float(row[5])\n",
    "        den = float(row[7])\n",
    "        print(alldata)\n",
    "        tc = terrainCorrection(g,godo, wido, den, gb)\n",
    "        print(tc/1000)\n",
    "    else:\n",
    "        print(\"데이터가 없쪄용ㅠㅠ\")\n",
    "        \n",
    "for i in c:\n",
    "    l = i\n",
    "    location = str(l[0])\n",
    "    latitude = float(l[1])\n",
    "    longitude = float(l[2])\n",
    "    h = float(l[3])\n",
    "    g = float(l[4])\n",
    "    gBC = float(l[5])\n",
    "    stone = str(l[6])\n",
    "    p = float(l[7])\n",
    "    dgt = terrainCorrection(g, h, latitude, p, gBC)\n",
    "    print(dgt)\n"
   ]
  },
  {
   "cell_type": "raw",
   "metadata": {},
   "source": []
  },
  {
   "cell_type": "code",
   "execution_count": null,
   "metadata": {},
   "outputs": [],
   "source": []
  },
  {
   "cell_type": "code",
   "execution_count": null,
   "metadata": {},
   "outputs": [],
   "source": []
  }
 ],
 "metadata": {
  "kernelspec": {
   "display_name": "Python 3",
   "language": "python",
   "name": "python3"
  }
 },
 "nbformat": 4,
 "nbformat_minor": 2
}
